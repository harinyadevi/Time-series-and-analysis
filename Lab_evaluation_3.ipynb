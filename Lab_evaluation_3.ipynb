{
  "nbformat": 4,
  "nbformat_minor": 0,
  "metadata": {
    "colab": {
      "provenance": [],
      "authorship_tag": "ABX9TyOawHLp4w849Wda2KIlWBjQ"
    },
    "kernelspec": {
      "name": "python3",
      "display_name": "Python 3"
    },
    "language_info": {
      "name": "python"
    }
  },
  "cells": [
    {
      "cell_type": "code",
      "execution_count": null,
      "metadata": {
        "id": "YAIlBXRxEK6B"
      },
      "outputs": [],
      "source": [
        "import pandas as pd\n",
        "import numpy as np\n",
        "from matplotlib import pyplot"
      ]
    },
    {
      "cell_type": "markdown",
      "source": [
        "i. Load and plot time series data"
      ],
      "metadata": {
        "id": "C2zSEZJuExQF"
      }
    },
    {
      "cell_type": "code",
      "source": [
        "series = pd.read_csv(\"/content/Series B.csv\")\n",
        "series"
      ],
      "metadata": {
        "colab": {
          "base_uri": "https://localhost:8080/",
          "height": 424
        },
        "id": "tqjXg9B8EiH7",
        "outputId": "4d8d612c-026d-438c-ca29-3c523a1c3e10"
      },
      "execution_count": null,
      "outputs": [
        {
          "output_type": "execute_result",
          "data": {
            "text/plain": [
              "           Date  Occurences\n",
              "0      1/1/1959          55\n",
              "1      1/2/1959          52\n",
              "2      1/3/1959          50\n",
              "3      1/4/1959          51\n",
              "4      1/5/1959          64\n",
              "..          ...         ...\n",
              "360  12/27/1959          57\n",
              "361  12/28/1959          72\n",
              "362  12/29/1959          68\n",
              "363  12/30/1959          75\n",
              "364  12/31/1959          70\n",
              "\n",
              "[365 rows x 2 columns]"
            ],
            "text/html": [
              "\n",
              "  <div id=\"df-1693f2ae-80e5-4327-8065-98f839655313\">\n",
              "    <div class=\"colab-df-container\">\n",
              "      <div>\n",
              "<style scoped>\n",
              "    .dataframe tbody tr th:only-of-type {\n",
              "        vertical-align: middle;\n",
              "    }\n",
              "\n",
              "    .dataframe tbody tr th {\n",
              "        vertical-align: top;\n",
              "    }\n",
              "\n",
              "    .dataframe thead th {\n",
              "        text-align: right;\n",
              "    }\n",
              "</style>\n",
              "<table border=\"1\" class=\"dataframe\">\n",
              "  <thead>\n",
              "    <tr style=\"text-align: right;\">\n",
              "      <th></th>\n",
              "      <th>Date</th>\n",
              "      <th>Occurences</th>\n",
              "    </tr>\n",
              "  </thead>\n",
              "  <tbody>\n",
              "    <tr>\n",
              "      <th>0</th>\n",
              "      <td>1/1/1959</td>\n",
              "      <td>55</td>\n",
              "    </tr>\n",
              "    <tr>\n",
              "      <th>1</th>\n",
              "      <td>1/2/1959</td>\n",
              "      <td>52</td>\n",
              "    </tr>\n",
              "    <tr>\n",
              "      <th>2</th>\n",
              "      <td>1/3/1959</td>\n",
              "      <td>50</td>\n",
              "    </tr>\n",
              "    <tr>\n",
              "      <th>3</th>\n",
              "      <td>1/4/1959</td>\n",
              "      <td>51</td>\n",
              "    </tr>\n",
              "    <tr>\n",
              "      <th>4</th>\n",
              "      <td>1/5/1959</td>\n",
              "      <td>64</td>\n",
              "    </tr>\n",
              "    <tr>\n",
              "      <th>...</th>\n",
              "      <td>...</td>\n",
              "      <td>...</td>\n",
              "    </tr>\n",
              "    <tr>\n",
              "      <th>360</th>\n",
              "      <td>12/27/1959</td>\n",
              "      <td>57</td>\n",
              "    </tr>\n",
              "    <tr>\n",
              "      <th>361</th>\n",
              "      <td>12/28/1959</td>\n",
              "      <td>72</td>\n",
              "    </tr>\n",
              "    <tr>\n",
              "      <th>362</th>\n",
              "      <td>12/29/1959</td>\n",
              "      <td>68</td>\n",
              "    </tr>\n",
              "    <tr>\n",
              "      <th>363</th>\n",
              "      <td>12/30/1959</td>\n",
              "      <td>75</td>\n",
              "    </tr>\n",
              "    <tr>\n",
              "      <th>364</th>\n",
              "      <td>12/31/1959</td>\n",
              "      <td>70</td>\n",
              "    </tr>\n",
              "  </tbody>\n",
              "</table>\n",
              "<p>365 rows × 2 columns</p>\n",
              "</div>\n",
              "      <button class=\"colab-df-convert\" onclick=\"convertToInteractive('df-1693f2ae-80e5-4327-8065-98f839655313')\"\n",
              "              title=\"Convert this dataframe to an interactive table.\"\n",
              "              style=\"display:none;\">\n",
              "        \n",
              "  <svg xmlns=\"http://www.w3.org/2000/svg\" height=\"24px\"viewBox=\"0 0 24 24\"\n",
              "       width=\"24px\">\n",
              "    <path d=\"M0 0h24v24H0V0z\" fill=\"none\"/>\n",
              "    <path d=\"M18.56 5.44l.94 2.06.94-2.06 2.06-.94-2.06-.94-.94-2.06-.94 2.06-2.06.94zm-11 1L8.5 8.5l.94-2.06 2.06-.94-2.06-.94L8.5 2.5l-.94 2.06-2.06.94zm10 10l.94 2.06.94-2.06 2.06-.94-2.06-.94-.94-2.06-.94 2.06-2.06.94z\"/><path d=\"M17.41 7.96l-1.37-1.37c-.4-.4-.92-.59-1.43-.59-.52 0-1.04.2-1.43.59L10.3 9.45l-7.72 7.72c-.78.78-.78 2.05 0 2.83L4 21.41c.39.39.9.59 1.41.59.51 0 1.02-.2 1.41-.59l7.78-7.78 2.81-2.81c.8-.78.8-2.07 0-2.86zM5.41 20L4 18.59l7.72-7.72 1.47 1.35L5.41 20z\"/>\n",
              "  </svg>\n",
              "      </button>\n",
              "      \n",
              "  <style>\n",
              "    .colab-df-container {\n",
              "      display:flex;\n",
              "      flex-wrap:wrap;\n",
              "      gap: 12px;\n",
              "    }\n",
              "\n",
              "    .colab-df-convert {\n",
              "      background-color: #E8F0FE;\n",
              "      border: none;\n",
              "      border-radius: 50%;\n",
              "      cursor: pointer;\n",
              "      display: none;\n",
              "      fill: #1967D2;\n",
              "      height: 32px;\n",
              "      padding: 0 0 0 0;\n",
              "      width: 32px;\n",
              "    }\n",
              "\n",
              "    .colab-df-convert:hover {\n",
              "      background-color: #E2EBFA;\n",
              "      box-shadow: 0px 1px 2px rgba(60, 64, 67, 0.3), 0px 1px 3px 1px rgba(60, 64, 67, 0.15);\n",
              "      fill: #174EA6;\n",
              "    }\n",
              "\n",
              "    [theme=dark] .colab-df-convert {\n",
              "      background-color: #3B4455;\n",
              "      fill: #D2E3FC;\n",
              "    }\n",
              "\n",
              "    [theme=dark] .colab-df-convert:hover {\n",
              "      background-color: #434B5C;\n",
              "      box-shadow: 0px 1px 3px 1px rgba(0, 0, 0, 0.15);\n",
              "      filter: drop-shadow(0px 1px 2px rgba(0, 0, 0, 0.3));\n",
              "      fill: #FFFFFF;\n",
              "    }\n",
              "  </style>\n",
              "\n",
              "      <script>\n",
              "        const buttonEl =\n",
              "          document.querySelector('#df-1693f2ae-80e5-4327-8065-98f839655313 button.colab-df-convert');\n",
              "        buttonEl.style.display =\n",
              "          google.colab.kernel.accessAllowed ? 'block' : 'none';\n",
              "\n",
              "        async function convertToInteractive(key) {\n",
              "          const element = document.querySelector('#df-1693f2ae-80e5-4327-8065-98f839655313');\n",
              "          const dataTable =\n",
              "            await google.colab.kernel.invokeFunction('convertToInteractive',\n",
              "                                                     [key], {});\n",
              "          if (!dataTable) return;\n",
              "\n",
              "          const docLinkHtml = 'Like what you see? Visit the ' +\n",
              "            '<a target=\"_blank\" href=https://colab.research.google.com/notebooks/data_table.ipynb>data table notebook</a>'\n",
              "            + ' to learn more about interactive tables.';\n",
              "          element.innerHTML = '';\n",
              "          dataTable['output_type'] = 'display_data';\n",
              "          await google.colab.output.renderOutput(dataTable, element);\n",
              "          const docLink = document.createElement('div');\n",
              "          docLink.innerHTML = docLinkHtml;\n",
              "          element.appendChild(docLink);\n",
              "        }\n",
              "      </script>\n",
              "    </div>\n",
              "  </div>\n",
              "  "
            ]
          },
          "metadata": {},
          "execution_count": 5
        }
      ]
    },
    {
      "cell_type": "code",
      "source": [
        "series.plot()\n",
        "pyplot.show()"
      ],
      "metadata": {
        "colab": {
          "base_uri": "https://localhost:8080/",
          "height": 265
        },
        "id": "hLIYv0uoFwOt",
        "outputId": "193d8b63-009d-47cc-b6f4-975ee923a585"
      },
      "execution_count": null,
      "outputs": [
        {
          "output_type": "display_data",
          "data": {
            "text/plain": [
              "<Figure size 432x288 with 1 Axes>"
            ],
            "image/png": "[encoded data removed]"
          },
          "metadata": {
            "needs_background": "light"
          }
        }
      ]
    },
    {
      "cell_type": "markdown",
      "source": [
        "ii.\tIs the series stationary or non-stationary? \n",
        "\n",
        "[Infer by looking at the plot]  "
      ],
      "metadata": {
        "id": "kWbdTfCSFUrK"
      }
    },
    {
      "cell_type": "markdown",
      "source": [
        "From the plot of the data, we can infer that the given time series is stationary.\n",
        "\n",
        "A time series is said to be non-stationary when the mean or variance keep changing with time. But in the plot that we have plotted, we can see that the mean is approximately constant and the fluctuations are around a point ~60. Since the mean doesn't change with time, this plot is stationary."
      ],
      "metadata": {
        "id": "r-VBHnXSFeca"
      }
    },
    {
      "cell_type": "markdown",
      "source": [
        "iii.\tSplit the time series into two contiguous sequences. Calculate the mean and variance of each group of numbers and compare the values. "
      ],
      "metadata": {
        "id": "Xg5TJMcZGWCf"
      }
    },
    {
      "cell_type": "code",
      "source": [
        "X = series\n",
        "split = int(len(X) / 2)\n",
        "X1, X2 = X[0:split], X[split:]"
      ],
      "metadata": {
        "id": "gdam-kdoEz-d"
      },
      "execution_count": null,
      "outputs": []
    },
    {
      "cell_type": "code",
      "source": [
        "print(\"Mean of 1st half:\")\n",
        "print(X1.Occurences.mean())\n",
        "print(\"Mean of 2ndt half:\")\n",
        "print(X2.Occurences.mean())\n",
        "print(\"Var of 1st half:\")\n",
        "print(X1.Occurences.var())\n",
        "print(\"Var of 2nd half:\")\n",
        "print(X2.Occurences.var())"
      ],
      "metadata": {
        "colab": {
          "base_uri": "https://localhost:8080/"
        },
        "id": "mDlnKQteJqED",
        "outputId": "3602ff41-619a-4136-b6a1-f9d11cd227b1"
      },
      "execution_count": null,
      "outputs": [
        {
          "output_type": "stream",
          "name": "stdout",
          "text": [
            "Mean of 1st half:\n",
            "59.76373626373626\n",
            "Mean of 2ndt half:\n",
            "64.18579234972678\n",
            "Var of 1st half:\n",
            "49.485307510169385\n",
            "Var of 2nd half:\n",
            "48.976280550051044\n"
          ]
        }
      ]
    },
    {
      "cell_type": "markdown",
      "source": [
        "Since the mean and variance for both the halves do not seem to vary a lot, we can conclude that the time series is stationary."
      ],
      "metadata": {
        "id": "71uUNL2KKTEr"
      }
    },
    {
      "cell_type": "markdown",
      "source": [
        "iv.\tLog transform the given time series."
      ],
      "metadata": {
        "id": "67J7JmtFKZ66"
      }
    },
    {
      "cell_type": "code",
      "source": [
        "from math import exp\n",
        "from numpy import log\n",
        "transform = log(series.Occurences)\n",
        "transform"
      ],
      "metadata": {
        "colab": {
          "base_uri": "https://localhost:8080/"
        },
        "id": "ViE9B2v5KdD4",
        "outputId": "a4b4a298-0234-45bb-e15a-ba154defb382"
      },
      "execution_count": null,
      "outputs": [
        {
          "output_type": "execute_result",
          "data": {
            "text/plain": [
              "0      4.007333\n",
              "1      3.951244\n",
              "2      3.912023\n",
              "3      3.931826\n",
              "4      4.158883\n",
              "         ...   \n",
              "360    4.043051\n",
              "361    4.276666\n",
              "362    4.219508\n",
              "363    4.317488\n",
              "364    4.248495\n",
              "Name: Occurences, Length: 365, dtype: float64"
            ]
          },
          "metadata": {},
          "execution_count": 24
        }
      ]
    },
    {
      "cell_type": "markdown",
      "source": [
        "v.\tDraw the histogram and line plot of log transformed time series "
      ],
      "metadata": {
        "id": "HVC0mODAL20F"
      }
    },
    {
      "cell_type": "code",
      "source": [
        "pyplot.figure(1)\n",
        "# line plot\n",
        "pyplot.subplot(211)\n",
        "pyplot.plot(transform)\n",
        "# histogram\n",
        "pyplot.subplot(212)\n",
        "pyplot.hist(transform)\n",
        "pyplot.show()"
      ],
      "metadata": {
        "colab": {
          "base_uri": "https://localhost:8080/",
          "height": 265
        },
        "id": "BkfZBiW3L0ih",
        "outputId": "75c3ade7-c972-44e3-a015-941b75b35e4e"
      },
      "execution_count": null,
      "outputs": [
        {
          "output_type": "display_data",
          "data": {
            "text/plain": [
              "<Figure size 432x288 with 2 Axes>"
            ],
            "image/png": "[encoded data removed]"
          },
          "metadata": {
            "needs_background": "light"
          }
        }
      ]
    },
    {
      "cell_type": "markdown",
      "source": [
        "vi.\tPerform Augmented Dickey-Fuller test on the given time series and show the output of the Augmented Dickey-Fuller test. "
      ],
      "metadata": {
        "id": "yIti1TvgL6FB"
      }
    },
    {
      "cell_type": "code",
      "source": [
        "# ADF Test\n",
        "from statsmodels.tsa.stattools import adfuller\n",
        "series = pd.read_csv(\"/content/Series B.csv\", parse_dates=['Date'], index_col='Date')\n",
        "result = adfuller(series, autolag='AIC')\n",
        "print(f'ADF Statistic: {result[0]}')\n",
        "print(f'n_lags: {result[1]}')\n",
        "print(f'p-value: {result[1]}')\n",
        "for key, value in result[4].items():\n",
        "    print('Critial Values:')\n",
        "    print(f'   {key}, {value}') "
      ],
      "metadata": {
        "colab": {
          "base_uri": "https://localhost:8080/"
        },
        "id": "wMvgjQ6qL88I",
        "outputId": "32f590de-dd21-4340-bb81-620ea3f4728c"
      },
      "execution_count": null,
      "outputs": [
        {
          "output_type": "stream",
          "name": "stdout",
          "text": [
            "ADF Statistic: -4.808291253559763\n",
            "n_lags: 5.243412990149865e-05\n",
            "p-value: 5.243412990149865e-05\n",
            "Critial Values:\n",
            "   1%, -3.448748905151901\n",
            "Critial Values:\n",
            "   5%, -2.8696473721448728\n",
            "Critial Values:\n",
            "   10%, -2.5710891239349585\n"
          ]
        }
      ]
    },
    {
      "cell_type": "markdown",
      "source": [
        "The p-value is obtained is greater than significance level of 0.05 and the ADF statistic is lower than any of the critical values.\n",
        "\n",
        "So, we can reject the null hypothesis and take that the series is stationary."
      ],
      "metadata": {
        "id": "OcScY-U6NGd5"
      }
    },
    {
      "cell_type": "markdown",
      "source": [
        "vii.\tThe simplest forecast that we can make is to forecast that what happened in the previous time step will be the same as what will happen in the next time step. This is called the naive forecast or the persistence forecast model. Implement the persistence model by creating a lagged dataset of the given time series. "
      ],
      "metadata": {
        "id": "aKWT3olfNPLi"
      }
    },
    {
      "cell_type": "code",
      "source": [
        "# Create lagged dataset\n",
        "values = pd.DataFrame(series.values)\n",
        "dataframe = pd.concat([values.shift(1), values], axis=1)\n",
        "dataframe.columns = ['t-1', 't+1']\n",
        "print(dataframe.head(5))"
      ],
      "metadata": {
        "colab": {
          "base_uri": "https://localhost:8080/"
        },
        "id": "ZfIX9UW7Mj61",
        "outputId": "872412eb-21a4-40c6-8a29-d1fcf2c2ce30"
      },
      "execution_count": null,
      "outputs": [
        {
          "output_type": "stream",
          "name": "stdout",
          "text": [
            "    t-1  t+1\n",
            "0   NaN   55\n",
            "1  55.0   52\n",
            "2  52.0   50\n",
            "3  50.0   51\n",
            "4  51.0   64\n"
          ]
        }
      ]
    },
    {
      "cell_type": "markdown",
      "source": [
        "viii.\tSplit into train and test sets with 70:30 ratios and implement the persistence model.  Calculate the residuals and show the Summary statistics of the residual errors "
      ],
      "metadata": {
        "id": "rTySVSPCN_5R"
      }
    },
    {
      "cell_type": "code",
      "source": [
        "# split into train and test sets\n",
        "X = dataframe.values\n",
        "train_size = int(len(X) * 0.7)\n",
        "train, test = X[1:train_size], X[train_size:]\n",
        "train_X, train_y = train[:,0], train[:,1]\n",
        "test_X, test_y = test[:,0], test[:,1]"
      ],
      "metadata": {
        "id": "2PE6tXbSN_U0"
      },
      "execution_count": null,
      "outputs": []
    },
    {
      "cell_type": "code",
      "source": [
        "import sklearn\n",
        "import math\n",
        "predictions = [x for x in test_X]\n",
        "# skill of persistence model\n",
        "rmse = math.sqrt(sklearn.metrics.mean_squared_error(test_y, predictions))\n",
        "print('Test RMSE: %.3f' % rmse)\n",
        "# calculate residuals\n",
        "residuals = [test_y[i]-predictions[i] for i in range(len(predictions))]\n",
        "residuals = pd.DataFrame(residuals)\n",
        "print(residuals.head())"
      ],
      "metadata": {
        "colab": {
          "base_uri": "https://localhost:8080/"
        },
        "id": "OEwlp1A4OHwM",
        "outputId": "fe04e4de-592f-4fcc-9671-7f8638acb565"
      },
      "execution_count": null,
      "outputs": [
        {
          "output_type": "stream",
          "name": "stdout",
          "text": [
            "Test RMSE: 8.316\n",
            "      0\n",
            "0 -11.0\n",
            "1  -8.0\n",
            "2   6.0\n",
            "3  16.0\n",
            "4 -12.0\n"
          ]
        }
      ]
    },
    {
      "cell_type": "markdown",
      "source": [
        "ix.\tCreate density plots and histogram plots of the residual errors "
      ],
      "metadata": {
        "id": "IPT8hP35PdRS"
      }
    },
    {
      "cell_type": "code",
      "source": [
        "import seaborn as sns\n",
        "sns.distplot(a=residuals[0], kde=False)"
      ],
      "metadata": {
        "colab": {
          "base_uri": "https://localhost:8080/",
          "height": 354
        },
        "id": "xqyH_y3pPV9P",
        "outputId": "b69dcdd6-33dd-4186-b35c-f891735ce0e4"
      },
      "execution_count": null,
      "outputs": [
        {
          "output_type": "stream",
          "name": "stderr",
          "text": [
            "/usr/local/lib/python3.7/dist-packages/seaborn/distributions.py:2619: FutureWarning: `distplot` is a deprecated function and will be removed in a future version. Please adapt your code to use either `displot` (a figure-level function with similar flexibility) or `histplot` (an axes-level function for histograms).\n",
            "  warnings.warn(msg, FutureWarning)\n"
          ]
        },
        {
          "output_type": "execute_result",
          "data": {
            "text/plain": [
              "<matplotlib.axes._subplots.AxesSubplot at 0x7f42910a1950>"
            ]
          },
          "metadata": {},
          "execution_count": 42
        },
        {
          "output_type": "display_data",
          "data": {
            "text/plain": [
              "<Figure size 432x288 with 1 Axes>"
            ],
            "image/png": "[encoded data removed]"
          },
          "metadata": {
            "needs_background": "light"
          }
        }
      ]
    },
    {
      "cell_type": "code",
      "source": [
        "sns.distplot(a=residuals[0], hist=False)"
      ],
      "metadata": {
        "colab": {
          "base_uri": "https://localhost:8080/",
          "height": 351
        },
        "id": "A1mrPhadPycc",
        "outputId": "5edf653c-7519-47d3-f94f-b531d2888f5d"
      },
      "execution_count": null,
      "outputs": [
        {
          "output_type": "stream",
          "name": "stderr",
          "text": [
            "/usr/local/lib/python3.7/dist-packages/seaborn/distributions.py:2619: FutureWarning: `distplot` is a deprecated function and will be removed in a future version. Please adapt your code to use either `displot` (a figure-level function with similar flexibility) or `kdeplot` (an axes-level function for kernel density plots).\n",
            "  warnings.warn(msg, FutureWarning)\n"
          ]
        },
        {
          "output_type": "execute_result",
          "data": {
            "text/plain": [
              "<matplotlib.axes._subplots.AxesSubplot at 0x7f42910f4650>"
            ]
          },
          "metadata": {},
          "execution_count": 41
        },
        {
          "output_type": "display_data",
          "data": {
            "text/plain": [
              "<Figure size 432x288 with 1 Axes>"
            ],
            "image/png": "[encoded data removed]"
          },
          "metadata": {
            "needs_background": "light"
          }
        }
      ]
    },
    {
      "cell_type": "code",
      "source": [
        "sns.distplot(a=residuals[0])"
      ],
      "metadata": {
        "colab": {
          "base_uri": "https://localhost:8080/",
          "height": 296
        },
        "id": "ivv2ib7rP8Fl",
        "outputId": "9431cc54-15de-49dc-8516-67b19304cec6"
      },
      "execution_count": null,
      "outputs": [
        {
          "output_type": "execute_result",
          "data": {
            "text/plain": [
              "<matplotlib.axes._subplots.AxesSubplot at 0x7f4290fe42d0>"
            ]
          },
          "metadata": {},
          "execution_count": 43
        },
        {
          "output_type": "display_data",
          "data": {
            "text/plain": [
              "<Figure size 432x288 with 1 Axes>"
            ],
            "image/png": "[encoded data removed]"
          },
          "metadata": {
            "needs_background": "light"
          }
        }
      ]
    },
    {
      "cell_type": "markdown",
      "source": [
        "x.\tCreate the Residual Q-Q Plot and Residual Autocorrelation Plot "
      ],
      "metadata": {
        "id": "yGBZAFEzQOvp"
      }
    },
    {
      "cell_type": "code",
      "source": [
        "from matplotlib import pyplot\n",
        "from statsmodels.graphics.gofplots import qqplot\n",
        "qqplot(residuals)\n",
        "pyplot.show()"
      ],
      "metadata": {
        "colab": {
          "base_uri": "https://localhost:8080/",
          "height": 279
        },
        "id": "YQn7HAplQJk7",
        "outputId": "d843c794-cc4e-463e-aa24-dab87aa520a8"
      },
      "execution_count": null,
      "outputs": [
        {
          "output_type": "display_data",
          "data": {
            "text/plain": [
              "<Figure size 432x288 with 1 Axes>"
            ],
            "image/png": "[encoded data removed]"
          },
          "metadata": {
            "needs_background": "light"
          }
        }
      ]
    },
    {
      "cell_type": "code",
      "source": [
        "from statsmodels.graphics.tsaplots import plot_acf\n",
        "plot_acf(residuals)\n",
        "pyplot.show()"
      ],
      "metadata": {
        "colab": {
          "base_uri": "https://localhost:8080/",
          "height": 281
        },
        "id": "8lbcTBMzQXuc",
        "outputId": "ca158f82-036d-4cb6-b6b0-0b0aa045b29e"
      },
      "execution_count": null,
      "outputs": [
        {
          "output_type": "display_data",
          "data": {
            "text/plain": [
              "<Figure size 432x288 with 1 Axes>"
            ],
            "image/png": "[encoded data removed]"
          },
          "metadata": {
            "needs_background": "light"
          }
        }
      ]
    }
  ]
}